{
 "cells": [
  {
   "cell_type": "markdown",
   "id": "8dd0f9f0-88d5-4e9d-8556-f4e379acd1b1",
   "metadata": {},
   "source": [
    "The objective of this project is to extract image of the day and asteriod data such as;\n",
    "\n",
    "- Asteroid ID\r",
    "- \n",
    "Asteroid nam\n",
    "- \r\n",
    "The Minimal estimated diameter in Kilomet\n",
    "- Absolute magnitude\n",
    "- de\r\n",
    "Relative_velocity(km/s)\n",
    "\n",
    "from NASA portal using API "
   ]
  },
  {
   "cell_type": "markdown",
   "id": "69c87609-4ec7-46c1-b213-8a0bede4299a",
   "metadata": {},
   "source": [
    "**Import necessary library**"
   ]
  },
  {
   "cell_type": "code",
   "execution_count": 1,
   "id": "afc0a015-6d22-43f2-b8d0-00447f857f19",
   "metadata": {},
   "outputs": [],
   "source": [
    "import requests\n",
    "import pandas as pd"
   ]
  },
  {
   "cell_type": "code",
   "execution_count": 3,
   "id": "c18b960d-1a99-4dd8-8577-0797610f9682",
   "metadata": {},
   "outputs": [],
   "source": [
    "#The base URL of the API \n",
    "\n",
    "url = \"https://api.nasa.gov/planetary/apod\""
   ]
  },
  {
   "cell_type": "code",
   "execution_count": 5,
   "id": "dad93fbe-83be-4d92-bee6-62fbdd2bc5d4",
   "metadata": {},
   "outputs": [],
   "source": [
    "#API and parameters\n",
    "\n",
    "api_key = \"PWs8IApqpAPjCvR0K5W95SA7GuhMvR5rrk7D2SNa\"\n",
    "\n",
    "# Parameters to pass to the API (e.g., date, start date, end date, count and API key)\n",
    "params = {\n",
    "    \"api_key\": api_key,  # Replace with your API key\n",
    "    \"date\": \"2024-11-07\",       # Example date; make sure it’s valid if you’re using 'date'\n",
    "    \"hd\": \"true\",                # Optional field for high-definition images\n",
    "}"
   ]
  },
  {
   "cell_type": "code",
   "execution_count": 13,
   "id": "a2923359-6da4-4266-ba7b-ce5af29dfffe",
   "metadata": {},
   "outputs": [],
   "source": [
    "# Send a GET request to the API\n",
    "\n",
    "response = requests.get(url, params = params)\n",
    "\n",
    "#Check if the request was successful\n",
    "response.status_code == 200\n",
    "\n",
    "if response.status_code == 200:\n",
    "    data = response.json() # This stores the response in the variable (data)\n",
    "else:\n",
    "    print(\"Error:\", response.status_code, response.text)"
   ]
  },
  {
   "cell_type": "code",
   "execution_count": 21,
   "id": "ae1076f2-921d-4f48-8888-7ef022a71c53",
   "metadata": {},
   "outputs": [
    {
     "data": {
      "text/html": [
       "<img src=\"https://apod.nasa.gov/apod/image/2411/NGC474_S1_Crop1024.jpg\"/>"
      ],
      "text/plain": [
       "<IPython.core.display.Image object>"
      ]
     },
     "metadata": {},
     "output_type": "display_data"
    }
   ],
   "source": [
    "# Display the NASA image as JSON\n",
    "\n",
    "from IPython.display import Image, display\n",
    "image_url = data['url']  # Get the URL of the image from the JSON data\n",
    "display(Image(url=image_url))"
   ]
  },
  {
   "cell_type": "markdown",
   "id": "2f8df701-f6a2-411b-9b12-97fc91f90cf9",
   "metadata": {},
   "source": [
    "**RETREIVE ASTERIOD DATA**"
   ]
  },
  {
   "cell_type": "code",
   "execution_count": 23,
   "id": "6f93ea94-3fc5-49ec-b0be-30393a6798ba",
   "metadata": {},
   "outputs": [],
   "source": [
    "asteroid_url = f\"https://api.nasa.gov/neo/rest/v1/feed?api_key={api_key}\" # Get Url to extract data \n",
    "response = requests.get(asteroid_url) # Get response from the API\n",
    "asteroid_data = response.json() # Stores response in the variable\n",
    "\n",
    "# Extract relevant details and store them in a DataFrame\n",
    "asteroids = []\n",
    "for neo in asteroid_data['near_earth_objects']:\n",
    "    for asteroid in asteroid_data['near_earth_objects'][neo]:\n",
    "        asteroids.append({\n",
    "            \"Asteroid ID\": asteroid['id'],\n",
    "            \"Asteroid name\": asteroid['name'],\n",
    "            \"Minimal estimated diameter in Kilometre\": asteroid['estimated_diameter']['kilometers']['estimated_diameter_min'],\n",
    "            \"Absolute_magnitude\": asteroid['absolute_magnitude_h'],\n",
    "            \"Relative_velocity(km/s)\": asteroid['close_approach_data'][0]['relative_velocity']['kilometers_per_second']\n",
    "        })\n",
    "\n",
    "data_asteroids = pd.DataFrame(asteroids)"
   ]
  },
  {
   "cell_type": "markdown",
   "id": "f111522e-05b2-48e0-b4bc-5154dcad4005",
   "metadata": {},
   "source": [
    "**DISPLAY THE ASTERIOD DATA**"
   ]
  },
  {
   "cell_type": "code",
   "execution_count": 49,
   "id": "6a7a64fd-316b-41ce-9c30-46c1da4cf948",
   "metadata": {},
   "outputs": [
    {
     "data": {
      "text/html": [
       "<div>\n",
       "<style scoped>\n",
       "    .dataframe tbody tr th:only-of-type {\n",
       "        vertical-align: middle;\n",
       "    }\n",
       "\n",
       "    .dataframe tbody tr th {\n",
       "        vertical-align: top;\n",
       "    }\n",
       "\n",
       "    .dataframe thead th {\n",
       "        text-align: right;\n",
       "    }\n",
       "</style>\n",
       "<table border=\"1\" class=\"dataframe\">\n",
       "  <thead>\n",
       "    <tr style=\"text-align: right;\">\n",
       "      <th></th>\n",
       "      <th>Asteroid ID</th>\n",
       "      <th>Asteroid name</th>\n",
       "      <th>Minimal estimated diameter in Kilometre</th>\n",
       "      <th>Absolute_magnitude</th>\n",
       "      <th>Relative_velocity(km/s)</th>\n",
       "    </tr>\n",
       "  </thead>\n",
       "  <tbody>\n",
       "    <tr>\n",
       "      <th>0</th>\n",
       "      <td>2138852</td>\n",
       "      <td>138852 (2000 WN10)</td>\n",
       "      <td>0.230438</td>\n",
       "      <td>20.31</td>\n",
       "      <td>15.7752849524</td>\n",
       "    </tr>\n",
       "    <tr>\n",
       "      <th>1</th>\n",
       "      <td>2390725</td>\n",
       "      <td>390725 (2003 HB)</td>\n",
       "      <td>0.305179</td>\n",
       "      <td>19.70</td>\n",
       "      <td>19.1702717603</td>\n",
       "    </tr>\n",
       "    <tr>\n",
       "      <th>2</th>\n",
       "      <td>3392303</td>\n",
       "      <td>(2007 VE3)</td>\n",
       "      <td>0.063761</td>\n",
       "      <td>23.10</td>\n",
       "      <td>32.1996811546</td>\n",
       "    </tr>\n",
       "    <tr>\n",
       "      <th>3</th>\n",
       "      <td>3843591</td>\n",
       "      <td>(2019 QZ)</td>\n",
       "      <td>0.016771</td>\n",
       "      <td>26.00</td>\n",
       "      <td>13.483054179</td>\n",
       "    </tr>\n",
       "    <tr>\n",
       "      <th>4</th>\n",
       "      <td>54105518</td>\n",
       "      <td>(2021 AW5)</td>\n",
       "      <td>0.013078</td>\n",
       "      <td>26.54</td>\n",
       "      <td>8.0122173908</td>\n",
       "    </tr>\n",
       "  </tbody>\n",
       "</table>\n",
       "</div>"
      ],
      "text/plain": [
       "  Asteroid ID       Asteroid name  Minimal estimated diameter in Kilometre  \\\n",
       "0     2138852  138852 (2000 WN10)                                 0.230438   \n",
       "1     2390725    390725 (2003 HB)                                 0.305179   \n",
       "2     3392303          (2007 VE3)                                 0.063761   \n",
       "3     3843591           (2019 QZ)                                 0.016771   \n",
       "4    54105518          (2021 AW5)                                 0.013078   \n",
       "\n",
       "   Absolute_magnitude Relative_velocity(km/s)  \n",
       "0               20.31           15.7752849524  \n",
       "1               19.70           19.1702717603  \n",
       "2               23.10           32.1996811546  \n",
       "3               26.00            13.483054179  \n",
       "4               26.54            8.0122173908  "
      ]
     },
     "execution_count": 49,
     "metadata": {},
     "output_type": "execute_result"
    }
   ],
   "source": [
    "# Displaying a clean version of the DataFrame\n",
    "\n",
    "data_asteroids.head()"
   ]
  },
  {
   "cell_type": "code",
   "execution_count": 37,
   "id": "6ad124e3-5364-4b61-ab2d-b58940090dcf",
   "metadata": {},
   "outputs": [
    {
     "name": "stdout",
     "output_type": "stream",
     "text": [
      "<class 'pandas.core.frame.DataFrame'>\n",
      "RangeIndex: 141 entries, 0 to 140\n",
      "Data columns (total 5 columns):\n",
      " #   Column                                   Non-Null Count  Dtype  \n",
      "---  ------                                   --------------  -----  \n",
      " 0   Asteroid ID                              141 non-null    object \n",
      " 1   Asteroid name                            141 non-null    object \n",
      " 2   Minimal estimated diameter in Kilometre  141 non-null    float64\n",
      " 3   Absolute_magnitude                       141 non-null    float64\n",
      " 4   Relative_velocity(km/s)                  141 non-null    object \n",
      "dtypes: float64(2), object(3)\n",
      "memory usage: 5.6+ KB\n"
     ]
    }
   ],
   "source": [
    "data_asteroids.info()"
   ]
  },
  {
   "cell_type": "code",
   "execution_count": 41,
   "id": "c010959b-e62f-443e-b65b-8f7f4bca8040",
   "metadata": {},
   "outputs": [],
   "source": [
    "# Export the data as a CSV file\n",
    "\n",
    "data_asteroids.to_csv(\"asteroid_data.csv\", index=False)"
   ]
  }
 ],
 "metadata": {
  "kernelspec": {
   "display_name": "Python 3 (ipykernel)",
   "language": "python",
   "name": "python3"
  },
  "language_info": {
   "codemirror_mode": {
    "name": "ipython",
    "version": 3
   },
   "file_extension": ".py",
   "mimetype": "text/x-python",
   "name": "python",
   "nbconvert_exporter": "python",
   "pygments_lexer": "ipython3",
   "version": "3.12.4"
  }
 },
 "nbformat": 4,
 "nbformat_minor": 5
}
